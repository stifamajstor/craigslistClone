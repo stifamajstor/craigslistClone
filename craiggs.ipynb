{
 "cells": [
  {
   "cell_type": "markdown",
   "metadata": {},
   "source": [
    "# Craigslist data extraction\n",
    "\n",
    "## 1. Importing libraries"
   ]
  },
  {
   "cell_type": "code",
   "execution_count": 530,
   "metadata": {},
   "outputs": [],
   "source": [
    "import pandas as pd\n",
    "import numpy as np\n",
    "import requests\n",
    "import bs4\n",
    "import re\n",
    "import datetime\n",
    "import string\n",
    "import json"
   ]
  },
  {
   "cell_type": "markdown",
   "metadata": {},
   "source": [
    "This is the basis url, but we are going to use other eventually:"
   ]
  },
  {
   "cell_type": "code",
   "execution_count": 2,
   "metadata": {},
   "outputs": [],
   "source": [
    "url = \"https://berlin.craigslist.org/d/housing/search/hhh\"\n",
    "response = requests.get(url)"
   ]
  },
  {
   "cell_type": "code",
   "execution_count": 3,
   "metadata": {},
   "outputs": [],
   "source": [
    "html_bytes = response.content"
   ]
  },
  {
   "cell_type": "code",
   "execution_count": 5,
   "metadata": {},
   "outputs": [
    {
     "data": {
      "text/plain": [
       "bs4.BeautifulSoup"
      ]
     },
     "execution_count": 5,
     "metadata": {},
     "output_type": "execute_result"
    }
   ],
   "source": [
    "type(soup)"
   ]
  },
  {
   "cell_type": "code",
   "execution_count": 525,
   "metadata": {},
   "outputs": [],
   "source": [
    "soup.body;"
   ]
  },
  {
   "cell_type": "code",
   "execution_count": 31,
   "metadata": {},
   "outputs": [],
   "source": [
    "a= soup.find_all('p', class_=\"result-info\") # Here is the relevant info"
   ]
  },
  {
   "cell_type": "markdown",
   "metadata": {},
   "source": [
    "This is the first result of our data:"
   ]
  },
  {
   "cell_type": "code",
   "execution_count": 106,
   "metadata": {},
   "outputs": [
    {
     "data": {
      "text/plain": [
       "<p class=\"result-info\">\n",
       "<span class=\"icon icon-star\" role=\"button\">\n",
       "<span class=\"screen-reader-text\">post zu favoriten</span>\n",
       "</span>\n",
       "<time class=\"result-date\" datetime=\"2020-02-15 09:10\" title=\"Sa 15 Feb 09:10:16\">Feb 15</time>\n",
       "<a class=\"result-title hdrlnk\" data-id=\"7060721562\" href=\"https://berlin.craigslist.org/roo/d/furnished-unique-ethnic-style-apt-for/7060721562.html\">Furnished, Unique, Ethnic Style Apt- For short or long period!!!!!€400</a>\n",
       "<span class=\"result-meta\">\n",
       "<span class=\"result-price\">€400</span>\n",
       "<span class=\"result-hood\"> (berlin)</span>\n",
       "<span class=\"result-tags\">\n",
       "</span>\n",
       "<span class=\"banish icon icon-trash\" role=\"button\">\n",
       "<span class=\"screen-reader-text\">dieses posting verbergen</span>\n",
       "</span>\n",
       "<span aria-hidden=\"true\" class=\"unbanish icon icon-trash red\" role=\"button\"></span>\n",
       "<a class=\"restore-link\" href=\"#\">\n",
       "<span class=\"restore-narrow-text\">wiederherstellen</span>\n",
       "<span class=\"restore-wide-text\">dieses posting wiederherstellen</span>\n",
       "</a>\n",
       "</span>\n",
       "</p>"
      ]
     },
     "execution_count": 106,
     "metadata": {},
     "output_type": "execute_result"
    }
   ],
   "source": [
    "a[0]"
   ]
  },
  {
   "cell_type": "markdown",
   "metadata": {},
   "source": [
    "However, in this we don't have information about the area and number of bedrooms, so we try a different one."
   ]
  },
  {
   "cell_type": "code",
   "execution_count": 107,
   "metadata": {},
   "outputs": [
    {
     "data": {
      "text/plain": [
       "<p class=\"result-info\">\n",
       "<span class=\"icon icon-star\" role=\"button\">\n",
       "<span class=\"screen-reader-text\">post zu favoriten</span>\n",
       "</span>\n",
       "<time class=\"result-date\" datetime=\"2020-02-15 06:12\" title=\"Sa 15 Feb 06:12:01\">Feb 15</time>\n",
       "<a class=\"result-title hdrlnk\" data-id=\"7057016829\" href=\"https://berlin.craigslist.org/vac/d/top-floor-apartment-with-terrace-march/7057016829.html\">TOP FLOOR APARTMENT with terrace - MARCH 2020</a>\n",
       "<span class=\"result-meta\">\n",
       "<span class=\"result-price\">€1000</span>\n",
       "<span class=\"housing\">\n",
       "                    1br -\n",
       "                    70m<sup>2</sup> -\n",
       "                </span>\n",
       "<span class=\"result-hood\"> (Berlin, Mitte)</span>\n",
       "<span class=\"result-tags\">\n",
       "<span class=\"pictag\">Bild</span>\n",
       "</span>\n",
       "<span class=\"banish icon icon-trash\" role=\"button\">\n",
       "<span class=\"screen-reader-text\">dieses posting verbergen</span>\n",
       "</span>\n",
       "<span aria-hidden=\"true\" class=\"unbanish icon icon-trash red\" role=\"button\"></span>\n",
       "<a class=\"restore-link\" href=\"#\">\n",
       "<span class=\"restore-narrow-text\">wiederherstellen</span>\n",
       "<span class=\"restore-wide-text\">dieses posting wiederherstellen</span>\n",
       "</a>\n",
       "</span>\n",
       "</p>"
      ]
     },
     "execution_count": 107,
     "metadata": {},
     "output_type": "execute_result"
    }
   ],
   "source": [
    "a[1]"
   ]
  },
  {
   "cell_type": "markdown",
   "metadata": {},
   "source": [
    "This give us the url, which is not important but just for exploring:"
   ]
  },
  {
   "cell_type": "code",
   "execution_count": 88,
   "metadata": {},
   "outputs": [
    {
     "data": {
      "text/plain": [
       "'https://berlin.craigslist.org/vac/d/top-floor-apartment-with-terrace-march/7057016829.html'"
      ]
     },
     "execution_count": 88,
     "metadata": {},
     "output_type": "execute_result"
    }
   ],
   "source": [
    "a[1].a[\"href\"]"
   ]
  },
  {
   "cell_type": "markdown",
   "metadata": {},
   "source": [
    "Obtaining the price:"
   ]
  },
  {
   "cell_type": "code",
   "execution_count": 89,
   "metadata": {},
   "outputs": [
    {
     "data": {
      "text/plain": [
       "'€1000'"
      ]
     },
     "execution_count": 89,
     "metadata": {},
     "output_type": "execute_result"
    }
   ],
   "source": [
    "a[1].find(\"span\", class_=\"result-price\").text"
   ]
  },
  {
   "cell_type": "code",
   "execution_count": 114,
   "metadata": {},
   "outputs": [
    {
     "data": {
      "text/plain": [
       "<p class=\"result-info\">\n",
       "<span class=\"icon icon-star\" role=\"button\">\n",
       "<span class=\"screen-reader-text\">post zu favoriten</span>\n",
       "</span>\n",
       "<time class=\"result-date\" datetime=\"2020-02-14 17:34\" title=\"Fr 14 Feb 17:34:29\">Feb 14</time>\n",
       "<a class=\"result-title hdrlnk\" data-id=\"7075147658\" href=\"https://berlin.craigslist.org/rew/d/snapchat-sessions-findom-worship/7075147658.html\">Snapchat sessions/ findom worship</a>\n",
       "<span class=\"result-meta\">\n",
       "<span class=\"result-price\">€0</span>\n",
       "<span class=\"result-tags\">\n",
       "</span>\n",
       "<span class=\"banish icon icon-trash\" role=\"button\">\n",
       "<span class=\"screen-reader-text\">dieses posting verbergen</span>\n",
       "</span>\n",
       "<span aria-hidden=\"true\" class=\"unbanish icon icon-trash red\" role=\"button\"></span>\n",
       "<a class=\"restore-link\" href=\"#\">\n",
       "<span class=\"restore-narrow-text\">wiederherstellen</span>\n",
       "<span class=\"restore-wide-text\">dieses posting wiederherstellen</span>\n",
       "</a>\n",
       "</span>\n",
       "</p>"
      ]
     },
     "execution_count": 114,
     "metadata": {},
     "output_type": "execute_result"
    }
   ],
   "source": [
    "a[6]"
   ]
  },
  {
   "cell_type": "markdown",
   "metadata": {},
   "source": [
    "The Neighborhood:"
   ]
  },
  {
   "cell_type": "code",
   "execution_count": 117,
   "metadata": {},
   "outputs": [
    {
     "data": {
      "text/plain": [
       "' (Berlin, Mitte)'"
      ]
     },
     "execution_count": 117,
     "metadata": {},
     "output_type": "execute_result"
    }
   ],
   "source": [
    "a[1].find(\"span\", class_= \"result-hood\").text"
   ]
  },
  {
   "cell_type": "code",
   "execution_count": 131,
   "metadata": {},
   "outputs": [],
   "source": [
    "b= a[1].find(\"span\", class_= \"result-hood\").text\n"
   ]
  },
  {
   "cell_type": "code",
   "execution_count": 135,
   "metadata": {},
   "outputs": [
    {
     "data": {
      "text/plain": [
       "'Berlin, Mitte'"
      ]
     },
     "execution_count": 135,
     "metadata": {},
     "output_type": "execute_result"
    }
   ],
   "source": [
    "b.replace(\"(\", \"\").replace(\")\", \"\").lstrip()"
   ]
  },
  {
   "cell_type": "markdown",
   "metadata": {},
   "source": [
    "The description:"
   ]
  },
  {
   "cell_type": "code",
   "execution_count": 91,
   "metadata": {},
   "outputs": [
    {
     "data": {
      "text/plain": [
       "'TOP FLOOR APARTMENT with terrace - MARCH 2020'"
      ]
     },
     "execution_count": 91,
     "metadata": {},
     "output_type": "execute_result"
    }
   ],
   "source": [
    "a[1].find(\"a\").text"
   ]
  },
  {
   "cell_type": "markdown",
   "metadata": {},
   "source": [
    "The number of bedrooms and area:"
   ]
  },
  {
   "cell_type": "code",
   "execution_count": 93,
   "metadata": {},
   "outputs": [
    {
     "data": {
      "text/plain": [
       "'\\n                    1br -\\n                    70m2 -\\n                '"
      ]
     },
     "execution_count": 93,
     "metadata": {},
     "output_type": "execute_result"
    }
   ],
   "source": [
    "a[1].find(\"span\", class_= \"housing\").text"
   ]
  },
  {
   "cell_type": "markdown",
   "metadata": {},
   "source": [
    "The date in which the apartment was posted:"
   ]
  },
  {
   "cell_type": "code",
   "execution_count": 109,
   "metadata": {},
   "outputs": [
    {
     "data": {
      "text/plain": [
       "'Feb 15'"
      ]
     },
     "execution_count": 109,
     "metadata": {},
     "output_type": "execute_result"
    }
   ],
   "source": [
    "a[1].find(\"time\", class_= \"result-date\").text"
   ]
  },
  {
   "cell_type": "code",
   "execution_count": 111,
   "metadata": {},
   "outputs": [
    {
     "data": {
      "text/plain": [
       "'2020-02-15 06:12'"
      ]
     },
     "execution_count": 111,
     "metadata": {},
     "output_type": "execute_result"
    }
   ],
   "source": [
    "a[1].time[\"datetime\"]"
   ]
  },
  {
   "cell_type": "markdown",
   "metadata": {},
   "source": [
    "And, obviously, the unique identifier for each single apartment:"
   ]
  },
  {
   "cell_type": "code",
   "execution_count": 94,
   "metadata": {},
   "outputs": [
    {
     "data": {
      "text/plain": [
       "'7057016829'"
      ]
     },
     "execution_count": 94,
     "metadata": {},
     "output_type": "execute_result"
    }
   ],
   "source": [
    "a[1].a[\"data-id\"]# obtain data-ids"
   ]
  },
  {
   "cell_type": "markdown",
   "metadata": {},
   "source": [
    "# Creating Functions for extract data"
   ]
  },
  {
   "cell_type": "code",
   "execution_count": 119,
   "metadata": {},
   "outputs": [],
   "source": [
    "def get_name(list_item):\n",
    "    id_apartment = list_item.a[\"data-id\"]\n",
    "    return id_apartment\n"
   ]
  },
  {
   "cell_type": "code",
   "execution_count": 120,
   "metadata": {},
   "outputs": [
    {
     "data": {
      "text/plain": [
       "'7060721562'"
      ]
     },
     "execution_count": 120,
     "metadata": {},
     "output_type": "execute_result"
    }
   ],
   "source": [
    "get_name(a[0])"
   ]
  },
  {
   "cell_type": "code",
   "execution_count": 264,
   "metadata": {},
   "outputs": [],
   "source": [
    "def get_description(list_item):\n",
    "    try:\n",
    "        id_description = list_item.find(\"a\").text\n",
    "        return id_description.capitalize()\n",
    "    except:\n",
    "        return \"\"\n"
   ]
  },
  {
   "cell_type": "code",
   "execution_count": 273,
   "metadata": {},
   "outputs": [
    {
     "data": {
      "text/plain": [
       "'Gorgeous, furnished 1 br flat in neukölln near maybachufer'"
      ]
     },
     "execution_count": 273,
     "metadata": {},
     "output_type": "execute_result"
    }
   ],
   "source": [
    "get_description(a[9])"
   ]
  },
  {
   "cell_type": "code",
   "execution_count": 184,
   "metadata": {},
   "outputs": [],
   "source": [
    "def get_date(list_item):\n",
    "    return list_item.time[\"datetime\"].split()[0]"
   ]
  },
  {
   "cell_type": "code",
   "execution_count": 276,
   "metadata": {},
   "outputs": [
    {
     "data": {
      "text/plain": [
       "'2020-02-14'"
      ]
     },
     "execution_count": 276,
     "metadata": {},
     "output_type": "execute_result"
    }
   ],
   "source": [
    "get_date(a[15])"
   ]
  },
  {
   "cell_type": "code",
   "execution_count": 314,
   "metadata": {},
   "outputs": [],
   "source": [
    "def get_price(list_item):\n",
    "    try:\n",
    "        return list_item.find(\"span\", class_=\"result-price\").text\n",
    "    except:\n",
    "        return \"€0\""
   ]
  },
  {
   "cell_type": "code",
   "execution_count": 317,
   "metadata": {},
   "outputs": [
    {
     "data": {
      "text/plain": [
       "'€0'"
      ]
     },
     "execution_count": 317,
     "metadata": {},
     "output_type": "execute_result"
    }
   ],
   "source": [
    "get_price(a[6])"
   ]
  },
  {
   "cell_type": "code",
   "execution_count": 130,
   "metadata": {},
   "outputs": [
    {
     "data": {
      "text/plain": [
       "'€1000'"
      ]
     },
     "execution_count": 130,
     "metadata": {},
     "output_type": "execute_result"
    }
   ],
   "source": [
    "get_price(a[2])"
   ]
  },
  {
   "cell_type": "code",
   "execution_count": 284,
   "metadata": {},
   "outputs": [],
   "source": [
    "def get_location(list_item):\n",
    "    try:\n",
    "        location = list_item.find(\"span\", class_= \"result-hood\").text\n",
    "        location = location.replace(\"(\", \"\").replace(\")\", \"\").lstrip()\n",
    "        return string.capwords(location)\n",
    "    except:\n",
    "        return \"\""
   ]
  },
  {
   "cell_type": "code",
   "execution_count": 292,
   "metadata": {},
   "outputs": [
    {
     "data": {
      "text/plain": [
       "'Prenzlauer Berg, Berlin'"
      ]
     },
     "execution_count": 292,
     "metadata": {},
     "output_type": "execute_result"
    }
   ],
   "source": [
    "get_location(a[100])"
   ]
  },
  {
   "cell_type": "code",
   "execution_count": 301,
   "metadata": {},
   "outputs": [],
   "source": [
    "def get_size(list_item):\n",
    "    try:\n",
    "        size_bedrooms = list_item.find(\"span\", class_= \"housing\").text\n",
    "        size_bedrooms= size_bedrooms.lstrip().split()\n",
    "        size_bedrooms = [i for i in size_bedrooms if i != \"-\"]       \n",
    "        #return size_bedrooms\n",
    "        if len(size_bedrooms) == 2:\n",
    "            return size_bedrooms[1].replace(\"m2\", \"\")\n",
    "        else:\n",
    "            if size_bedrooms[0].find(\"m2\") != -1:\n",
    "                return size_bedrooms[0].replace(\"m2\", \"\")\n",
    "            else:\n",
    "                return 0\n",
    "    except:\n",
    "        return 0\n",
    "\n",
    "### this should be done with try!!! if the length is "
   ]
  },
  {
   "cell_type": "code",
   "execution_count": 308,
   "metadata": {},
   "outputs": [
    {
     "data": {
      "text/plain": [
       "0"
      ]
     },
     "execution_count": 308,
     "metadata": {},
     "output_type": "execute_result"
    }
   ],
   "source": [
    "get_size(a[3])"
   ]
  },
  {
   "cell_type": "code",
   "execution_count": 309,
   "metadata": {},
   "outputs": [],
   "source": [
    "def get_bedrooms(list_item):\n",
    "    try:\n",
    "        size_bedrooms = list_item.find(\"span\", class_= \"housing\").text\n",
    "        size_bedrooms= size_bedrooms.lstrip().split()\n",
    "        size_bedrooms = [i for i in size_bedrooms if i != \"-\"]       \n",
    "        #return size_bedrooms\n",
    "        if len(size_bedrooms) == 2:\n",
    "            return size_bedrooms[0].replace(\"br\", \"\")\n",
    "        else:\n",
    "            if size_bedrooms[0].find(\"br\") != -1:\n",
    "                return size_bedrooms[0].replace(\"br\", \"\")\n",
    "            else:\n",
    "                return 0\n",
    "    except:\n",
    "        return 0"
   ]
  },
  {
   "cell_type": "code",
   "execution_count": 310,
   "metadata": {},
   "outputs": [
    {
     "data": {
      "text/plain": [
       "'2'"
      ]
     },
     "execution_count": 310,
     "metadata": {},
     "output_type": "execute_result"
    }
   ],
   "source": [
    "get_bedrooms(a[3])"
   ]
  },
  {
   "cell_type": "markdown",
   "metadata": {},
   "source": [
    "Now, we will construct a function joining all the single fields for our dataset:"
   ]
  },
  {
   "cell_type": "code",
   "execution_count": 318,
   "metadata": {},
   "outputs": [],
   "source": [
    "def get_record(list_item):\n",
    "    return {\"date_id\": get_date(list_item),\n",
    "            \"apartment_id\": get_name(list_item),\n",
    "            \"location\": get_location(list_item),\n",
    "            \"price\": get_price(list_item),\n",
    "            \"size\": get_size(list_item),\n",
    "            \"bedrooms\": get_bedrooms(list_item),\n",
    "            \"description\": get_description(list_item)}"
   ]
  },
  {
   "cell_type": "code",
   "execution_count": 319,
   "metadata": {},
   "outputs": [
    {
     "data": {
      "text/plain": [
       "{'date_id': '2020-02-15',\n",
       " 'apartment_id': '7057016829',\n",
       " 'location': 'Berlin, Mitte',\n",
       " 'price': '€1000',\n",
       " 'size': '70',\n",
       " 'bedrooms': '1',\n",
       " 'description': 'Top floor apartment with terrace - march 2020'}"
      ]
     },
     "execution_count": 319,
     "metadata": {},
     "output_type": "execute_result"
    }
   ],
   "source": [
    "get_record(a[1])"
   ]
  },
  {
   "cell_type": "code",
   "execution_count": 352,
   "metadata": {},
   "outputs": [],
   "source": [
    "df_berlin = pd.DataFrame([get_record(list_item) for list_item in a])"
   ]
  },
  {
   "cell_type": "code",
   "execution_count": 353,
   "metadata": {},
   "outputs": [
    {
     "data": {
      "text/html": [
       "<div>\n",
       "<style scoped>\n",
       "    .dataframe tbody tr th:only-of-type {\n",
       "        vertical-align: middle;\n",
       "    }\n",
       "\n",
       "    .dataframe tbody tr th {\n",
       "        vertical-align: top;\n",
       "    }\n",
       "\n",
       "    .dataframe thead th {\n",
       "        text-align: right;\n",
       "    }\n",
       "</style>\n",
       "<table border=\"1\" class=\"dataframe\">\n",
       "  <thead>\n",
       "    <tr style=\"text-align: right;\">\n",
       "      <th></th>\n",
       "      <th>date_id</th>\n",
       "      <th>apartment_id</th>\n",
       "      <th>location</th>\n",
       "      <th>price</th>\n",
       "      <th>size</th>\n",
       "      <th>bedrooms</th>\n",
       "      <th>description</th>\n",
       "    </tr>\n",
       "  </thead>\n",
       "  <tbody>\n",
       "    <tr>\n",
       "      <td>0</td>\n",
       "      <td>2020-02-15</td>\n",
       "      <td>7060721562</td>\n",
       "      <td>Berlin</td>\n",
       "      <td>€400</td>\n",
       "      <td>0</td>\n",
       "      <td>0</td>\n",
       "      <td>Furnished, unique, ethnic style apt- for short...</td>\n",
       "    </tr>\n",
       "    <tr>\n",
       "      <td>1</td>\n",
       "      <td>2020-02-15</td>\n",
       "      <td>7057016829</td>\n",
       "      <td>Berlin, Mitte</td>\n",
       "      <td>€1000</td>\n",
       "      <td>70</td>\n",
       "      <td>1</td>\n",
       "      <td>Top floor apartment with terrace - march 2020</td>\n",
       "    </tr>\n",
       "    <tr>\n",
       "      <td>2</td>\n",
       "      <td>2020-02-15</td>\n",
       "      <td>7057017433</td>\n",
       "      <td>Berlin, Mitte</td>\n",
       "      <td>€1000</td>\n",
       "      <td>70</td>\n",
       "      <td>1</td>\n",
       "      <td>Top floor apartment with terrace - march 2020</td>\n",
       "    </tr>\n",
       "    <tr>\n",
       "      <td>3</td>\n",
       "      <td>2020-02-14</td>\n",
       "      <td>7075441143</td>\n",
       "      <td>Berlin</td>\n",
       "      <td>€850</td>\n",
       "      <td>0</td>\n",
       "      <td>2</td>\n",
       "      <td>43mq new and cosy flat in rummelsburg / lichte...</td>\n",
       "    </tr>\n",
       "    <tr>\n",
       "      <td>4</td>\n",
       "      <td>2020-02-14</td>\n",
       "      <td>7075310096</td>\n",
       "      <td>Berlin Kreuzberg Alte Brauerei</td>\n",
       "      <td>€4500</td>\n",
       "      <td>0</td>\n",
       "      <td>4</td>\n",
       "      <td>Roof top paradise kreuzberg (4 rooms, open kit...</td>\n",
       "    </tr>\n",
       "  </tbody>\n",
       "</table>\n",
       "</div>"
      ],
      "text/plain": [
       "      date_id apartment_id                        location  price size  \\\n",
       "0  2020-02-15   7060721562                          Berlin   €400    0   \n",
       "1  2020-02-15   7057016829                   Berlin, Mitte  €1000   70   \n",
       "2  2020-02-15   7057017433                   Berlin, Mitte  €1000   70   \n",
       "3  2020-02-14   7075441143                          Berlin   €850    0   \n",
       "4  2020-02-14   7075310096  Berlin Kreuzberg Alte Brauerei  €4500    0   \n",
       "\n",
       "  bedrooms                                        description  \n",
       "0        0  Furnished, unique, ethnic style apt- for short...  \n",
       "1        1      Top floor apartment with terrace - march 2020  \n",
       "2        1      Top floor apartment with terrace - march 2020  \n",
       "3        2  43mq new and cosy flat in rummelsburg / lichte...  \n",
       "4        4  Roof top paradise kreuzberg (4 rooms, open kit...  "
      ]
     },
     "execution_count": 353,
     "metadata": {},
     "output_type": "execute_result"
    }
   ],
   "source": [
    "df_berlin.head()"
   ]
  },
  {
   "cell_type": "code",
   "execution_count": 356,
   "metadata": {},
   "outputs": [],
   "source": [
    "df_berlin.T.to_json(\"apartments.json\")"
   ]
  },
  {
   "cell_type": "code",
   "execution_count": 358,
   "metadata": {},
   "outputs": [
    {
     "data": {
      "text/html": [
       "<div>\n",
       "<style scoped>\n",
       "    .dataframe tbody tr th:only-of-type {\n",
       "        vertical-align: middle;\n",
       "    }\n",
       "\n",
       "    .dataframe tbody tr th {\n",
       "        vertical-align: top;\n",
       "    }\n",
       "\n",
       "    .dataframe thead th {\n",
       "        text-align: right;\n",
       "    }\n",
       "</style>\n",
       "<table border=\"1\" class=\"dataframe\">\n",
       "  <thead>\n",
       "    <tr style=\"text-align: right;\">\n",
       "      <th></th>\n",
       "      <th>0</th>\n",
       "      <th>1</th>\n",
       "      <th>2</th>\n",
       "      <th>3</th>\n",
       "      <th>4</th>\n",
       "      <th>5</th>\n",
       "      <th>6</th>\n",
       "      <th>7</th>\n",
       "      <th>8</th>\n",
       "      <th>9</th>\n",
       "      <th>...</th>\n",
       "      <th>110</th>\n",
       "      <th>111</th>\n",
       "      <th>112</th>\n",
       "      <th>113</th>\n",
       "      <th>114</th>\n",
       "      <th>115</th>\n",
       "      <th>116</th>\n",
       "      <th>117</th>\n",
       "      <th>118</th>\n",
       "      <th>119</th>\n",
       "    </tr>\n",
       "  </thead>\n",
       "  <tbody>\n",
       "    <tr>\n",
       "      <td>date_id</td>\n",
       "      <td>2020-02-15</td>\n",
       "      <td>2020-02-15</td>\n",
       "      <td>2020-02-15</td>\n",
       "      <td>2020-02-14</td>\n",
       "      <td>2020-02-14</td>\n",
       "      <td>2020-02-14</td>\n",
       "      <td>2020-02-14</td>\n",
       "      <td>2020-02-14</td>\n",
       "      <td>2020-02-14</td>\n",
       "      <td>2020-02-14</td>\n",
       "      <td>...</td>\n",
       "      <td>2020-02-13</td>\n",
       "      <td>2020-02-13</td>\n",
       "      <td>2020-02-13</td>\n",
       "      <td>2020-02-13</td>\n",
       "      <td>2020-02-13</td>\n",
       "      <td>2020-02-13</td>\n",
       "      <td>2020-02-13</td>\n",
       "      <td>2020-02-13</td>\n",
       "      <td>2020-02-13</td>\n",
       "      <td>2020-02-13</td>\n",
       "    </tr>\n",
       "    <tr>\n",
       "      <td>apartment_id</td>\n",
       "      <td>7060721562</td>\n",
       "      <td>7057016829</td>\n",
       "      <td>7057017433</td>\n",
       "      <td>7075441143</td>\n",
       "      <td>7075310096</td>\n",
       "      <td>7066187786</td>\n",
       "      <td>7075147658</td>\n",
       "      <td>7063873498</td>\n",
       "      <td>7058753216</td>\n",
       "      <td>7069362147</td>\n",
       "      <td>...</td>\n",
       "      <td>7057262211</td>\n",
       "      <td>7056874679</td>\n",
       "      <td>7074461856</td>\n",
       "      <td>7062807281</td>\n",
       "      <td>7074461459</td>\n",
       "      <td>7074457166</td>\n",
       "      <td>7059222244</td>\n",
       "      <td>7071325256</td>\n",
       "      <td>7065294791</td>\n",
       "      <td>7057701982</td>\n",
       "    </tr>\n",
       "    <tr>\n",
       "      <td>location</td>\n",
       "      <td>Berlin</td>\n",
       "      <td>Berlin, Mitte</td>\n",
       "      <td>Berlin, Mitte</td>\n",
       "      <td>Berlin</td>\n",
       "      <td>Berlin Kreuzberg Alte Brauerei</td>\n",
       "      <td>Berlin</td>\n",
       "      <td></td>\n",
       "      <td>Neltestraße</td>\n",
       "      <td>Berlin Friedrichshain</td>\n",
       "      <td>Bürknerstraße, Neukölln</td>\n",
       "      <td>...</td>\n",
       "      <td>Friedrichshain, Berlin</td>\n",
       "      <td>Berlin Mitte</td>\n",
       "      <td>Berlin</td>\n",
       "      <td>Friedrichstraße</td>\n",
       "      <td>Kreuzberg, Berlin</td>\n",
       "      <td>Schönhauser Allee</td>\n",
       "      <td></td>\n",
       "      <td></td>\n",
       "      <td>Mitte</td>\n",
       "      <td>Germany Berlin Friedrichshain</td>\n",
       "    </tr>\n",
       "    <tr>\n",
       "      <td>price</td>\n",
       "      <td>€400</td>\n",
       "      <td>€1000</td>\n",
       "      <td>€1000</td>\n",
       "      <td>€850</td>\n",
       "      <td>€4500</td>\n",
       "      <td>€500</td>\n",
       "      <td>€0</td>\n",
       "      <td>€589</td>\n",
       "      <td>€399</td>\n",
       "      <td>€400</td>\n",
       "      <td>...</td>\n",
       "      <td>€500</td>\n",
       "      <td>€1000</td>\n",
       "      <td>€400</td>\n",
       "      <td>€500</td>\n",
       "      <td>€725</td>\n",
       "      <td>€499</td>\n",
       "      <td>€390</td>\n",
       "      <td>€500</td>\n",
       "      <td>€500</td>\n",
       "      <td>€390</td>\n",
       "    </tr>\n",
       "    <tr>\n",
       "      <td>size</td>\n",
       "      <td>0</td>\n",
       "      <td>70</td>\n",
       "      <td>70</td>\n",
       "      <td>0</td>\n",
       "      <td>0</td>\n",
       "      <td>0</td>\n",
       "      <td>0</td>\n",
       "      <td>0</td>\n",
       "      <td>0</td>\n",
       "      <td>0</td>\n",
       "      <td>...</td>\n",
       "      <td>0</td>\n",
       "      <td>700</td>\n",
       "      <td>0</td>\n",
       "      <td>52</td>\n",
       "      <td>37</td>\n",
       "      <td>53</td>\n",
       "      <td>52</td>\n",
       "      <td>45</td>\n",
       "      <td>52</td>\n",
       "      <td>0</td>\n",
       "    </tr>\n",
       "    <tr>\n",
       "      <td>bedrooms</td>\n",
       "      <td>0</td>\n",
       "      <td>1</td>\n",
       "      <td>1</td>\n",
       "      <td>2</td>\n",
       "      <td>4</td>\n",
       "      <td>1</td>\n",
       "      <td>0</td>\n",
       "      <td>0</td>\n",
       "      <td>0</td>\n",
       "      <td>0</td>\n",
       "      <td>...</td>\n",
       "      <td>0</td>\n",
       "      <td>2</td>\n",
       "      <td>0</td>\n",
       "      <td>0</td>\n",
       "      <td>1</td>\n",
       "      <td>1</td>\n",
       "      <td>0</td>\n",
       "      <td>1</td>\n",
       "      <td>1</td>\n",
       "      <td>0</td>\n",
       "    </tr>\n",
       "    <tr>\n",
       "      <td>description</td>\n",
       "      <td>Furnished, unique, ethnic style apt- for short...</td>\n",
       "      <td>Top floor apartment with terrace - march 2020</td>\n",
       "      <td>Top floor apartment with terrace - march 2020</td>\n",
       "      <td>43mq new and cosy flat in rummelsburg / lichte...</td>\n",
       "      <td>Roof top paradise kreuzberg (4 rooms, open kit...</td>\n",
       "      <td>Cosy &amp; lavishly equipped studio apartment for ...</td>\n",
       "      <td>Snapchat sessions/ findom worship</td>\n",
       "      <td>Room for rent in apartment with four bedrooms ...</td>\n",
       "      <td>Updated price awesome 1 br apt with large patio</td>\n",
       "      <td>Gorgeous, furnished 1 br flat in neukölln near...</td>\n",
       "      <td>...</td>\n",
       "      <td>Newly renovated charming apartment for rent</td>\n",
       "      <td>Downtown best area in mitte - linienstr (mitte...</td>\n",
       "      <td>Fully furnished home with amenities inclusive</td>\n",
       "      <td>+++apartment near checkpoint charlie in mitte+++</td>\n",
       "      <td>I am moving abroad and looking for somebody to...</td>\n",
       "      <td>--brand new 1 bedroom apartment-- at schönhaus...</td>\n",
       "      <td>-----&gt;cosy &amp; confortable 1 bedroom situated in...</td>\n",
       "      <td>Rooftop studio in neukölln near volkspark hase...</td>\n",
       "      <td>Lovely 1 bedroom apartment near checkpoint cha...</td>\n",
       "      <td>Cable/ internet ready, secured parking, 1 bedr...</td>\n",
       "    </tr>\n",
       "  </tbody>\n",
       "</table>\n",
       "<p>7 rows × 120 columns</p>\n",
       "</div>"
      ],
      "text/plain": [
       "                                                            0    \\\n",
       "date_id                                              2020-02-15   \n",
       "apartment_id                                         7060721562   \n",
       "location                                                 Berlin   \n",
       "price                                                      €400   \n",
       "size                                                          0   \n",
       "bedrooms                                                      0   \n",
       "description   Furnished, unique, ethnic style apt- for short...   \n",
       "\n",
       "                                                        1    \\\n",
       "date_id                                          2020-02-15   \n",
       "apartment_id                                     7057016829   \n",
       "location                                      Berlin, Mitte   \n",
       "price                                                 €1000   \n",
       "size                                                     70   \n",
       "bedrooms                                                  1   \n",
       "description   Top floor apartment with terrace - march 2020   \n",
       "\n",
       "                                                        2    \\\n",
       "date_id                                          2020-02-15   \n",
       "apartment_id                                     7057017433   \n",
       "location                                      Berlin, Mitte   \n",
       "price                                                 €1000   \n",
       "size                                                     70   \n",
       "bedrooms                                                  1   \n",
       "description   Top floor apartment with terrace - march 2020   \n",
       "\n",
       "                                                            3    \\\n",
       "date_id                                              2020-02-14   \n",
       "apartment_id                                         7075441143   \n",
       "location                                                 Berlin   \n",
       "price                                                      €850   \n",
       "size                                                          0   \n",
       "bedrooms                                                      2   \n",
       "description   43mq new and cosy flat in rummelsburg / lichte...   \n",
       "\n",
       "                                                            4    \\\n",
       "date_id                                              2020-02-14   \n",
       "apartment_id                                         7075310096   \n",
       "location                         Berlin Kreuzberg Alte Brauerei   \n",
       "price                                                     €4500   \n",
       "size                                                          0   \n",
       "bedrooms                                                      4   \n",
       "description   Roof top paradise kreuzberg (4 rooms, open kit...   \n",
       "\n",
       "                                                            5    \\\n",
       "date_id                                              2020-02-14   \n",
       "apartment_id                                         7066187786   \n",
       "location                                                 Berlin   \n",
       "price                                                      €500   \n",
       "size                                                          0   \n",
       "bedrooms                                                      1   \n",
       "description   Cosy & lavishly equipped studio apartment for ...   \n",
       "\n",
       "                                            6    \\\n",
       "date_id                              2020-02-14   \n",
       "apartment_id                         7075147658   \n",
       "location                                          \n",
       "price                                        €0   \n",
       "size                                          0   \n",
       "bedrooms                                      0   \n",
       "description   Snapchat sessions/ findom worship   \n",
       "\n",
       "                                                            7    \\\n",
       "date_id                                              2020-02-14   \n",
       "apartment_id                                         7063873498   \n",
       "location                                            Neltestraße   \n",
       "price                                                      €589   \n",
       "size                                                          0   \n",
       "bedrooms                                                      0   \n",
       "description   Room for rent in apartment with four bedrooms ...   \n",
       "\n",
       "                                                          8    \\\n",
       "date_id                                            2020-02-14   \n",
       "apartment_id                                       7058753216   \n",
       "location                                Berlin Friedrichshain   \n",
       "price                                                    €399   \n",
       "size                                                        0   \n",
       "bedrooms                                                    0   \n",
       "description   Updated price awesome 1 br apt with large patio   \n",
       "\n",
       "                                                            9    ...  \\\n",
       "date_id                                              2020-02-14  ...   \n",
       "apartment_id                                         7069362147  ...   \n",
       "location                                Bürknerstraße, Neukölln  ...   \n",
       "price                                                      €400  ...   \n",
       "size                                                          0  ...   \n",
       "bedrooms                                                      0  ...   \n",
       "description   Gorgeous, furnished 1 br flat in neukölln near...  ...   \n",
       "\n",
       "                                                      110  \\\n",
       "date_id                                        2020-02-13   \n",
       "apartment_id                                   7057262211   \n",
       "location                           Friedrichshain, Berlin   \n",
       "price                                                €500   \n",
       "size                                                    0   \n",
       "bedrooms                                                0   \n",
       "description   Newly renovated charming apartment for rent   \n",
       "\n",
       "                                                            111  \\\n",
       "date_id                                              2020-02-13   \n",
       "apartment_id                                         7056874679   \n",
       "location                                           Berlin Mitte   \n",
       "price                                                     €1000   \n",
       "size                                                        700   \n",
       "bedrooms                                                      2   \n",
       "description   Downtown best area in mitte - linienstr (mitte...   \n",
       "\n",
       "                                                        112  \\\n",
       "date_id                                          2020-02-13   \n",
       "apartment_id                                     7074461856   \n",
       "location                                             Berlin   \n",
       "price                                                  €400   \n",
       "size                                                      0   \n",
       "bedrooms                                                  0   \n",
       "description   Fully furnished home with amenities inclusive   \n",
       "\n",
       "                                                           113  \\\n",
       "date_id                                             2020-02-13   \n",
       "apartment_id                                        7062807281   \n",
       "location                                       Friedrichstraße   \n",
       "price                                                     €500   \n",
       "size                                                        52   \n",
       "bedrooms                                                     0   \n",
       "description   +++apartment near checkpoint charlie in mitte+++   \n",
       "\n",
       "                                                            114  \\\n",
       "date_id                                              2020-02-13   \n",
       "apartment_id                                         7074461459   \n",
       "location                                      Kreuzberg, Berlin   \n",
       "price                                                      €725   \n",
       "size                                                         37   \n",
       "bedrooms                                                      1   \n",
       "description   I am moving abroad and looking for somebody to...   \n",
       "\n",
       "                                                            115  \\\n",
       "date_id                                              2020-02-13   \n",
       "apartment_id                                         7074457166   \n",
       "location                                      Schönhauser Allee   \n",
       "price                                                      €499   \n",
       "size                                                         53   \n",
       "bedrooms                                                      1   \n",
       "description   --brand new 1 bedroom apartment-- at schönhaus...   \n",
       "\n",
       "                                                            116  \\\n",
       "date_id                                              2020-02-13   \n",
       "apartment_id                                         7059222244   \n",
       "location                                                          \n",
       "price                                                      €390   \n",
       "size                                                         52   \n",
       "bedrooms                                                      0   \n",
       "description   ----->cosy & confortable 1 bedroom situated in...   \n",
       "\n",
       "                                                            117  \\\n",
       "date_id                                              2020-02-13   \n",
       "apartment_id                                         7071325256   \n",
       "location                                                          \n",
       "price                                                      €500   \n",
       "size                                                         45   \n",
       "bedrooms                                                      1   \n",
       "description   Rooftop studio in neukölln near volkspark hase...   \n",
       "\n",
       "                                                            118  \\\n",
       "date_id                                              2020-02-13   \n",
       "apartment_id                                         7065294791   \n",
       "location                                                  Mitte   \n",
       "price                                                      €500   \n",
       "size                                                         52   \n",
       "bedrooms                                                      1   \n",
       "description   Lovely 1 bedroom apartment near checkpoint cha...   \n",
       "\n",
       "                                                            119  \n",
       "date_id                                              2020-02-13  \n",
       "apartment_id                                         7057701982  \n",
       "location                          Germany Berlin Friedrichshain  \n",
       "price                                                      €390  \n",
       "size                                                          0  \n",
       "bedrooms                                                      0  \n",
       "description   Cable/ internet ready, secured parking, 1 bedr...  \n",
       "\n",
       "[7 rows x 120 columns]"
      ]
     },
     "execution_count": 358,
     "metadata": {},
     "output_type": "execute_result"
    }
   ],
   "source": [
    "df_berlin.T"
   ]
  },
  {
   "cell_type": "code",
   "execution_count": 360,
   "metadata": {},
   "outputs": [],
   "source": [
    "def get_data_frame(web):\n",
    "    response = requests.get(web)\n",
    "    html_bytes = response.content\n",
    "    suppe = bs4.BeautifulSoup(html_bytes, \"html.parser\")\n",
    "    items = suppe.find_all('p', class_=\"result-info\")\n",
    "    return pd.DataFrame([get_record(list_item) for list_item in items])\n",
    "    "
   ]
  },
  {
   "cell_type": "code",
   "execution_count": 361,
   "metadata": {},
   "outputs": [],
   "source": [
    "def get_url(city):\n",
    "    return \"https://\"+city+\".craigslist.org/search/hhh\""
   ]
  },
  {
   "cell_type": "code",
   "execution_count": 405,
   "metadata": {},
   "outputs": [],
   "source": [
    "cities = [\"amsterdam\", \"berlin\", \"bremen\", \"dusseldorf\", \"hamburg\", \"hannover\", \"leipzig\", \"munich\"]"
   ]
  },
  {
   "cell_type": "code",
   "execution_count": null,
   "metadata": {},
   "outputs": [],
   "source": [
    "df[~df.C.str.contains(\"XYZ\")]"
   ]
  },
  {
   "cell_type": "code",
   "execution_count": 509,
   "metadata": {},
   "outputs": [],
   "source": [
    "def get_dataf(city):\n",
    "    web = get_url(city)\n",
    "    data_f = get_data_frame(web)\n",
    "    city_s = str(city).capitalize()\n",
    "    data_f[\"city\"] = data_f[\"location\"].apply(lambda x: city_s)\n",
    "    return data_f    "
   ]
  },
  {
   "cell_type": "code",
   "execution_count": 510,
   "metadata": {},
   "outputs": [],
   "source": [
    "final_data = pd.concat([get_dataf(city) for city in cities])"
   ]
  },
  {
   "cell_type": "code",
   "execution_count": 511,
   "metadata": {},
   "outputs": [],
   "source": [
    "final_data = final_data.reset_index()"
   ]
  },
  {
   "cell_type": "code",
   "execution_count": 512,
   "metadata": {},
   "outputs": [],
   "source": [
    "final_data.rename(columns = {\"index\": \"no\"}, inplace = True)"
   ]
  },
  {
   "cell_type": "code",
   "execution_count": 513,
   "metadata": {},
   "outputs": [],
   "source": [
    "final_data.drop(columns = \"no\", inplace = True)"
   ]
  },
  {
   "cell_type": "code",
   "execution_count": 514,
   "metadata": {},
   "outputs": [
    {
     "data": {
      "text/html": [
       "<div>\n",
       "<style scoped>\n",
       "    .dataframe tbody tr th:only-of-type {\n",
       "        vertical-align: middle;\n",
       "    }\n",
       "\n",
       "    .dataframe tbody tr th {\n",
       "        vertical-align: top;\n",
       "    }\n",
       "\n",
       "    .dataframe thead th {\n",
       "        text-align: right;\n",
       "    }\n",
       "</style>\n",
       "<table border=\"1\" class=\"dataframe\">\n",
       "  <thead>\n",
       "    <tr style=\"text-align: right;\">\n",
       "      <th></th>\n",
       "      <th>date_id</th>\n",
       "      <th>apartment_id</th>\n",
       "      <th>location</th>\n",
       "      <th>price</th>\n",
       "      <th>size</th>\n",
       "      <th>bedrooms</th>\n",
       "      <th>description</th>\n",
       "      <th>city</th>\n",
       "    </tr>\n",
       "  </thead>\n",
       "  <tbody>\n",
       "    <tr>\n",
       "      <td>120</td>\n",
       "      <td>2020-02-15</td>\n",
       "      <td>7075753678</td>\n",
       "      <td>Charlottenburg- Berlin</td>\n",
       "      <td>€0</td>\n",
       "      <td>45</td>\n",
       "      <td>0</td>\n",
       "      <td>Berlinale,  two-room suite, own entrance + bike</td>\n",
       "      <td>Berlin</td>\n",
       "    </tr>\n",
       "    <tr>\n",
       "      <td>122</td>\n",
       "      <td>2020-02-15</td>\n",
       "      <td>7063040204</td>\n",
       "      <td>Charlottenburg- Berlin</td>\n",
       "      <td>€1000</td>\n",
       "      <td>0</td>\n",
       "      <td>0</td>\n",
       "      <td>Two room suite with own entrance, furnished</td>\n",
       "      <td>Berlin</td>\n",
       "    </tr>\n",
       "    <tr>\n",
       "      <td>123</td>\n",
       "      <td>2020-02-15</td>\n",
       "      <td>7075739124</td>\n",
       "      <td>Kollwitzstraße, Berlin, Germany</td>\n",
       "      <td>€300</td>\n",
       "      <td>52</td>\n",
       "      <td>1</td>\n",
       "      <td>1x1 sun-flooded luxury studio in prime locatio...</td>\n",
       "      <td>Berlin</td>\n",
       "    </tr>\n",
       "    <tr>\n",
       "      <td>124</td>\n",
       "      <td>2020-02-15</td>\n",
       "      <td>7063254959</td>\n",
       "      <td>Reichenberger Str., Friedrichshain-kreuzberg, ...</td>\n",
       "      <td>€350</td>\n",
       "      <td>0</td>\n",
       "      <td>1</td>\n",
       "      <td>%%%fabulous! remodeled one bedroom! make it yo...</td>\n",
       "      <td>Berlin</td>\n",
       "    </tr>\n",
       "    <tr>\n",
       "      <td>135</td>\n",
       "      <td>2020-02-15</td>\n",
       "      <td>7060721562</td>\n",
       "      <td>Berlin</td>\n",
       "      <td>€400</td>\n",
       "      <td>0</td>\n",
       "      <td>0</td>\n",
       "      <td>Furnished, unique, ethnic style apt- for short...</td>\n",
       "      <td>Berlin</td>\n",
       "    </tr>\n",
       "    <tr>\n",
       "      <td>...</td>\n",
       "      <td>...</td>\n",
       "      <td>...</td>\n",
       "      <td>...</td>\n",
       "      <td>...</td>\n",
       "      <td>...</td>\n",
       "      <td>...</td>\n",
       "      <td>...</td>\n",
       "      <td>...</td>\n",
       "    </tr>\n",
       "    <tr>\n",
       "      <td>236</td>\n",
       "      <td>2020-02-13</td>\n",
       "      <td>7057772664</td>\n",
       "      <td>Mitte, Berlin</td>\n",
       "      <td>€399</td>\n",
       "      <td>0</td>\n",
       "      <td>0</td>\n",
       "      <td>Updated tranqil 1br apartment for rent</td>\n",
       "      <td>Berlin</td>\n",
       "    </tr>\n",
       "    <tr>\n",
       "      <td>237</td>\n",
       "      <td>2020-02-13</td>\n",
       "      <td>7056391549</td>\n",
       "      <td>Neukölln, Berlin</td>\n",
       "      <td>€300</td>\n",
       "      <td>0</td>\n",
       "      <td>0</td>\n",
       "      <td>Freshly remodeled studio apartment</td>\n",
       "      <td>Berlin</td>\n",
       "    </tr>\n",
       "    <tr>\n",
       "      <td>238</td>\n",
       "      <td>2020-02-13</td>\n",
       "      <td>7056391237</td>\n",
       "      <td>Mitte, Berlin</td>\n",
       "      <td>€300</td>\n",
       "      <td>0</td>\n",
       "      <td>0</td>\n",
       "      <td>Cosy &amp; equipped studio apartment for rent</td>\n",
       "      <td>Berlin</td>\n",
       "    </tr>\n",
       "    <tr>\n",
       "      <td>239</td>\n",
       "      <td>2020-02-13</td>\n",
       "      <td>7056866890</td>\n",
       "      <td>Berlin Mitte</td>\n",
       "      <td>€1000</td>\n",
       "      <td>65</td>\n",
       "      <td>2</td>\n",
       "      <td>Downtown best area in mitte - linienstr (mitte...</td>\n",
       "      <td>Berlin</td>\n",
       "    </tr>\n",
       "    <tr>\n",
       "      <td>610</td>\n",
       "      <td>2020-01-18</td>\n",
       "      <td>7051457798</td>\n",
       "      <td>Berlin</td>\n",
       "      <td>€350</td>\n",
       "      <td>120</td>\n",
       "      <td>0</td>\n",
       "      <td>Become free in your mind</td>\n",
       "      <td>Hannover</td>\n",
       "    </tr>\n",
       "  </tbody>\n",
       "</table>\n",
       "<p>68 rows × 8 columns</p>\n",
       "</div>"
      ],
      "text/plain": [
       "        date_id apartment_id  \\\n",
       "120  2020-02-15   7075753678   \n",
       "122  2020-02-15   7063040204   \n",
       "123  2020-02-15   7075739124   \n",
       "124  2020-02-15   7063254959   \n",
       "135  2020-02-15   7060721562   \n",
       "..          ...          ...   \n",
       "236  2020-02-13   7057772664   \n",
       "237  2020-02-13   7056391549   \n",
       "238  2020-02-13   7056391237   \n",
       "239  2020-02-13   7056866890   \n",
       "610  2020-01-18   7051457798   \n",
       "\n",
       "                                              location  price size bedrooms  \\\n",
       "120                             Charlottenburg- Berlin     €0   45        0   \n",
       "122                             Charlottenburg- Berlin  €1000    0        0   \n",
       "123                    Kollwitzstraße, Berlin, Germany   €300   52        1   \n",
       "124  Reichenberger Str., Friedrichshain-kreuzberg, ...   €350    0        1   \n",
       "135                                             Berlin   €400    0        0   \n",
       "..                                                 ...    ...  ...      ...   \n",
       "236                                      Mitte, Berlin   €399    0        0   \n",
       "237                                   Neukölln, Berlin   €300    0        0   \n",
       "238                                      Mitte, Berlin   €300    0        0   \n",
       "239                                       Berlin Mitte  €1000   65        2   \n",
       "610                                             Berlin   €350  120        0   \n",
       "\n",
       "                                           description      city  \n",
       "120    Berlinale,  two-room suite, own entrance + bike    Berlin  \n",
       "122        Two room suite with own entrance, furnished    Berlin  \n",
       "123  1x1 sun-flooded luxury studio in prime locatio...    Berlin  \n",
       "124  %%%fabulous! remodeled one bedroom! make it yo...    Berlin  \n",
       "135  Furnished, unique, ethnic style apt- for short...    Berlin  \n",
       "..                                                 ...       ...  \n",
       "236             Updated tranqil 1br apartment for rent    Berlin  \n",
       "237                 Freshly remodeled studio apartment    Berlin  \n",
       "238          Cosy & equipped studio apartment for rent    Berlin  \n",
       "239  Downtown best area in mitte - linienstr (mitte...    Berlin  \n",
       "610                           Become free in your mind  Hannover  \n",
       "\n",
       "[68 rows x 8 columns]"
      ]
     },
     "execution_count": 514,
     "metadata": {},
     "output_type": "execute_result"
    }
   ],
   "source": [
    "final_data[final_data.location.str.contains(\"Berlin\")]"
   ]
  },
  {
   "cell_type": "code",
   "execution_count": 516,
   "metadata": {},
   "outputs": [],
   "source": [
    "final = final_data[~(final_data.price.str.contains(\"CZK\") | final_data.price.str.contains(\"CHF\"))]"
   ]
  },
  {
   "cell_type": "code",
   "execution_count": 518,
   "metadata": {},
   "outputs": [
    {
     "data": {
      "text/plain": [
       "(931, 8)"
      ]
     },
     "execution_count": 518,
     "metadata": {},
     "output_type": "execute_result"
    }
   ],
   "source": [
    "final.shape"
   ]
  },
  {
   "cell_type": "code",
   "execution_count": 523,
   "metadata": {},
   "outputs": [
    {
     "data": {
      "text/html": [
       "<div>\n",
       "<style scoped>\n",
       "    .dataframe tbody tr th:only-of-type {\n",
       "        vertical-align: middle;\n",
       "    }\n",
       "\n",
       "    .dataframe tbody tr th {\n",
       "        vertical-align: top;\n",
       "    }\n",
       "\n",
       "    .dataframe thead th {\n",
       "        text-align: right;\n",
       "    }\n",
       "</style>\n",
       "<table border=\"1\" class=\"dataframe\">\n",
       "  <thead>\n",
       "    <tr style=\"text-align: right;\">\n",
       "      <th></th>\n",
       "      <th>date_id</th>\n",
       "      <th>apartment_id</th>\n",
       "      <th>location</th>\n",
       "      <th>price</th>\n",
       "      <th>size</th>\n",
       "      <th>bedrooms</th>\n",
       "      <th>description</th>\n",
       "      <th>city</th>\n",
       "    </tr>\n",
       "  </thead>\n",
       "  <tbody>\n",
       "    <tr>\n",
       "      <td>934</td>\n",
       "      <td>2020-02-12</td>\n",
       "      <td>7073902931</td>\n",
       "      <td></td>\n",
       "      <td>€450</td>\n",
       "      <td>52</td>\n",
       "      <td>1</td>\n",
       "      <td>Apartment for rent one bedroom nuremberg</td>\n",
       "      <td>Munich</td>\n",
       "    </tr>\n",
       "    <tr>\n",
       "      <td>935</td>\n",
       "      <td>2020-02-15</td>\n",
       "      <td>7075698285</td>\n",
       "      <td></td>\n",
       "      <td>€790</td>\n",
       "      <td>0</td>\n",
       "      <td>2</td>\n",
       "      <td>Familienfreundliche 2-zimmer-wohnung</td>\n",
       "      <td>Munich</td>\n",
       "    </tr>\n",
       "    <tr>\n",
       "      <td>936</td>\n",
       "      <td>2020-02-13</td>\n",
       "      <td>7074422466</td>\n",
       "      <td></td>\n",
       "      <td>€475</td>\n",
       "      <td>45</td>\n",
       "      <td>1</td>\n",
       "      <td>Apartment in a central location</td>\n",
       "      <td>Munich</td>\n",
       "    </tr>\n",
       "    <tr>\n",
       "      <td>950</td>\n",
       "      <td>2020-02-14</td>\n",
       "      <td>7075251254</td>\n",
       "      <td></td>\n",
       "      <td>€500</td>\n",
       "      <td>0</td>\n",
       "      <td>1</td>\n",
       "      <td>1 bed immediate move in available</td>\n",
       "      <td>Munich</td>\n",
       "    </tr>\n",
       "    <tr>\n",
       "      <td>951</td>\n",
       "      <td>2020-02-14</td>\n",
       "      <td>7075251204</td>\n",
       "      <td></td>\n",
       "      <td>€500</td>\n",
       "      <td>0</td>\n",
       "      <td>1</td>\n",
       "      <td>1 bed immediate move in available</td>\n",
       "      <td>Munich</td>\n",
       "    </tr>\n",
       "  </tbody>\n",
       "</table>\n",
       "</div>"
      ],
      "text/plain": [
       "        date_id apartment_id location price size bedrooms  \\\n",
       "934  2020-02-12   7073902931           €450   52        1   \n",
       "935  2020-02-15   7075698285           €790    0        2   \n",
       "936  2020-02-13   7074422466           €475   45        1   \n",
       "950  2020-02-14   7075251254           €500    0        1   \n",
       "951  2020-02-14   7075251204           €500    0        1   \n",
       "\n",
       "                                  description    city  \n",
       "934  Apartment for rent one bedroom nuremberg  Munich  \n",
       "935      Familienfreundliche 2-zimmer-wohnung  Munich  \n",
       "936           Apartment in a central location  Munich  \n",
       "950         1 bed immediate move in available  Munich  \n",
       "951         1 bed immediate move in available  Munich  "
      ]
     },
     "execution_count": 523,
     "metadata": {},
     "output_type": "execute_result"
    }
   ],
   "source": [
    "final.drop_duplicates(subset='apartment_id', keep=\"first\").tail()"
   ]
  },
  {
   "cell_type": "code",
   "execution_count": 471,
   "metadata": {},
   "outputs": [],
   "source": [
    "cities2 = [\"amsterdam\", \"bremen\", \"dusseldorf\", \"hamburg\", \"hannover\", \"leipzig\", \"munich\"]"
   ]
  },
  {
   "cell_type": "code",
   "execution_count": 472,
   "metadata": {},
   "outputs": [],
   "source": [
    "rest_data = pd.concat([get_dataf(city) for city in cities2])"
   ]
  },
  {
   "cell_type": "code",
   "execution_count": 473,
   "metadata": {},
   "outputs": [],
   "source": [
    "rest_data = rest_data.reset_index()"
   ]
  },
  {
   "cell_type": "code",
   "execution_count": 474,
   "metadata": {},
   "outputs": [],
   "source": [
    "rest_data.rename(columns = {\"index\": \"no\"}, inplace = True)"
   ]
  },
  {
   "cell_type": "code",
   "execution_count": 475,
   "metadata": {},
   "outputs": [],
   "source": [
    "rest_data.drop(columns = \"no\", inplace = True)"
   ]
  },
  {
   "cell_type": "code",
   "execution_count": 476,
   "metadata": {},
   "outputs": [],
   "source": [
    "rest_data.T.to_json(\"rest_data.json\")"
   ]
  },
  {
   "cell_type": "code",
   "execution_count": 478,
   "metadata": {},
   "outputs": [
    {
     "data": {
      "text/plain": [
       "(960, 7)"
      ]
     },
     "execution_count": 478,
     "metadata": {},
     "output_type": "execute_result"
    }
   ],
   "source": [
    "final_data.shape"
   ]
  },
  {
   "cell_type": "code",
   "execution_count": 480,
   "metadata": {},
   "outputs": [
    {
     "data": {
      "text/html": [
       "<div>\n",
       "<style scoped>\n",
       "    .dataframe tbody tr th:only-of-type {\n",
       "        vertical-align: middle;\n",
       "    }\n",
       "\n",
       "    .dataframe tbody tr th {\n",
       "        vertical-align: top;\n",
       "    }\n",
       "\n",
       "    .dataframe thead th {\n",
       "        text-align: right;\n",
       "    }\n",
       "</style>\n",
       "<table border=\"1\" class=\"dataframe\">\n",
       "  <thead>\n",
       "    <tr style=\"text-align: right;\">\n",
       "      <th></th>\n",
       "      <th>date_id</th>\n",
       "      <th>apartment_id</th>\n",
       "      <th>location</th>\n",
       "      <th>price</th>\n",
       "      <th>size</th>\n",
       "      <th>bedrooms</th>\n",
       "      <th>description</th>\n",
       "    </tr>\n",
       "  </thead>\n",
       "  <tbody>\n",
       "    <tr>\n",
       "      <td>955</td>\n",
       "      <td>2020-02-14</td>\n",
       "      <td>7075243449</td>\n",
       "      <td>Munich</td>\n",
       "      <td>CZK11400</td>\n",
       "      <td>51</td>\n",
       "      <td>1</td>\n",
       "      <td>Fabulous one bedroom apartment for rent in prague</td>\n",
       "    </tr>\n",
       "    <tr>\n",
       "      <td>956</td>\n",
       "      <td>2020-02-14</td>\n",
       "      <td>7060786325</td>\n",
       "      <td>Munich</td>\n",
       "      <td>CZK15000</td>\n",
       "      <td>70</td>\n",
       "      <td>1</td>\n",
       "      <td>Beautiful 2 rooms apartment + large balcony</td>\n",
       "    </tr>\n",
       "    <tr>\n",
       "      <td>957</td>\n",
       "      <td>2020-02-13</td>\n",
       "      <td>7074786279</td>\n",
       "      <td>Munich</td>\n",
       "      <td>CZK13600</td>\n",
       "      <td>63</td>\n",
       "      <td>2</td>\n",
       "      <td>* charming two bedrooms apartment for rent in ...</td>\n",
       "    </tr>\n",
       "    <tr>\n",
       "      <td>958</td>\n",
       "      <td>2020-02-13</td>\n",
       "      <td>7074789229</td>\n",
       "      <td>Munich</td>\n",
       "      <td>CZK13600</td>\n",
       "      <td>63</td>\n",
       "      <td>2</td>\n",
       "      <td>* charming two bedrooms apartment for rent in ...</td>\n",
       "    </tr>\n",
       "    <tr>\n",
       "      <td>959</td>\n",
       "      <td>2020-02-13</td>\n",
       "      <td>7074787772</td>\n",
       "      <td>Munich</td>\n",
       "      <td>CZK13600</td>\n",
       "      <td>63</td>\n",
       "      <td>2</td>\n",
       "      <td>* charming two bedrooms apartment for rent in ...</td>\n",
       "    </tr>\n",
       "  </tbody>\n",
       "</table>\n",
       "</div>"
      ],
      "text/plain": [
       "        date_id apartment_id location     price size bedrooms  \\\n",
       "955  2020-02-14   7075243449   Munich  CZK11400   51        1   \n",
       "956  2020-02-14   7060786325   Munich  CZK15000   70        1   \n",
       "957  2020-02-13   7074786279   Munich  CZK13600   63        2   \n",
       "958  2020-02-13   7074789229   Munich  CZK13600   63        2   \n",
       "959  2020-02-13   7074787772   Munich  CZK13600   63        2   \n",
       "\n",
       "                                           description  \n",
       "955  Fabulous one bedroom apartment for rent in prague  \n",
       "956        Beautiful 2 rooms apartment + large balcony  \n",
       "957  * charming two bedrooms apartment for rent in ...  \n",
       "958  * charming two bedrooms apartment for rent in ...  \n",
       "959  * charming two bedrooms apartment for rent in ...  "
      ]
     },
     "execution_count": 480,
     "metadata": {},
     "output_type": "execute_result"
    }
   ],
   "source": [
    "final_data.tail()"
   ]
  },
  {
   "cell_type": "code",
   "execution_count": 486,
   "metadata": {},
   "outputs": [],
   "source": [
    "final = final_data[~(final_data.price.str.contains(\"CZK\") | final_data.price.str.contains(\"CHF\"))]"
   ]
  },
  {
   "cell_type": "code",
   "execution_count": 487,
   "metadata": {},
   "outputs": [
    {
     "data": {
      "text/html": [
       "<div>\n",
       "<style scoped>\n",
       "    .dataframe tbody tr th:only-of-type {\n",
       "        vertical-align: middle;\n",
       "    }\n",
       "\n",
       "    .dataframe tbody tr th {\n",
       "        vertical-align: top;\n",
       "    }\n",
       "\n",
       "    .dataframe thead th {\n",
       "        text-align: right;\n",
       "    }\n",
       "</style>\n",
       "<table border=\"1\" class=\"dataframe\">\n",
       "  <thead>\n",
       "    <tr style=\"text-align: right;\">\n",
       "      <th></th>\n",
       "      <th>date_id</th>\n",
       "      <th>apartment_id</th>\n",
       "      <th>location</th>\n",
       "      <th>price</th>\n",
       "      <th>size</th>\n",
       "      <th>bedrooms</th>\n",
       "      <th>description</th>\n",
       "    </tr>\n",
       "  </thead>\n",
       "  <tbody>\n",
       "    <tr>\n",
       "      <td>0</td>\n",
       "      <td>2020-02-15</td>\n",
       "      <td>7065109521</td>\n",
       "      <td>Slotervaart Near Lelylaan Station</td>\n",
       "      <td>€2100</td>\n",
       "      <td>145</td>\n",
       "      <td>2</td>\n",
       "      <td>Huge house 2 double bedrooms patio, garage and...</td>\n",
       "    </tr>\n",
       "    <tr>\n",
       "      <td>1</td>\n",
       "      <td>2020-02-15</td>\n",
       "      <td>7060797134</td>\n",
       "      <td>Amsterdam</td>\n",
       "      <td>€80</td>\n",
       "      <td>0</td>\n",
       "      <td>2</td>\n",
       "      <td>Full two-bedroom apartment in the heart of ams...</td>\n",
       "    </tr>\n",
       "    <tr>\n",
       "      <td>2</td>\n",
       "      <td>2020-02-15</td>\n",
       "      <td>7060798681</td>\n",
       "      <td>Amsterdam</td>\n",
       "      <td>€80</td>\n",
       "      <td>0</td>\n",
       "      <td>2</td>\n",
       "      <td>Newly renovated top floor apartment in a quiet...</td>\n",
       "    </tr>\n",
       "    <tr>\n",
       "      <td>3</td>\n",
       "      <td>2020-02-15</td>\n",
       "      <td>7062656915</td>\n",
       "      <td>Amsterdam</td>\n",
       "      <td>€1200</td>\n",
       "      <td>0</td>\n",
       "      <td>1</td>\n",
       "      <td>Cozy apartment in a quiet street near the sing...</td>\n",
       "    </tr>\n",
       "    <tr>\n",
       "      <td>4</td>\n",
       "      <td>2020-02-15</td>\n",
       "      <td>7062658353</td>\n",
       "      <td>Amsterdam</td>\n",
       "      <td>€40</td>\n",
       "      <td>0</td>\n",
       "      <td>1</td>\n",
       "      <td>Century apartment in the famous jordaan area i...</td>\n",
       "    </tr>\n",
       "  </tbody>\n",
       "</table>\n",
       "</div>"
      ],
      "text/plain": [
       "      date_id apartment_id                           location  price size  \\\n",
       "0  2020-02-15   7065109521  Slotervaart Near Lelylaan Station  €2100  145   \n",
       "1  2020-02-15   7060797134                          Amsterdam    €80    0   \n",
       "2  2020-02-15   7060798681                          Amsterdam    €80    0   \n",
       "3  2020-02-15   7062656915                          Amsterdam  €1200    0   \n",
       "4  2020-02-15   7062658353                          Amsterdam    €40    0   \n",
       "\n",
       "  bedrooms                                        description  \n",
       "0        2  Huge house 2 double bedrooms patio, garage and...  \n",
       "1        2  Full two-bedroom apartment in the heart of ams...  \n",
       "2        2  Newly renovated top floor apartment in a quiet...  \n",
       "3        1  Cozy apartment in a quiet street near the sing...  \n",
       "4        1  Century apartment in the famous jordaan area i...  "
      ]
     },
     "execution_count": 487,
     "metadata": {},
     "output_type": "execute_result"
    }
   ],
   "source": [
    "final.head()"
   ]
  },
  {
   "cell_type": "code",
   "execution_count": 497,
   "metadata": {},
   "outputs": [
    {
     "data": {
      "text/plain": [
       "Bremen                    111\n",
       "Leipzig                   111\n",
       "Hannover                  110\n",
       "Dusseldorf                103\n",
       "Hamburg                    94\n",
       "                         ... \n",
       "Palamedesstraat             1\n",
       "Robert-koch-straße          1\n",
       "Sankt Johann                1\n",
       "Am Schafbrinke 71           1\n",
       "Sacramento, California      1\n",
       "Name: location, Length: 193, dtype: int64"
      ]
     },
     "execution_count": 497,
     "metadata": {},
     "output_type": "execute_result"
    }
   ],
   "source": [
    "final.location.value_counts()"
   ]
  },
  {
   "cell_type": "code",
   "execution_count": null,
   "metadata": {},
   "outputs": [],
   "source": []
  }
 ],
 "metadata": {
  "kernelspec": {
   "display_name": "Python 3",
   "language": "python",
   "name": "python3"
  },
  "language_info": {
   "codemirror_mode": {
    "name": "ipython",
    "version": 3
   },
   "file_extension": ".py",
   "mimetype": "text/x-python",
   "name": "python",
   "nbconvert_exporter": "python",
   "pygments_lexer": "ipython3",
   "version": "3.7.4"
  }
 },
 "nbformat": 4,
 "nbformat_minor": 4
}
